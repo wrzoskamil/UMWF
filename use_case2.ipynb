{
  "nbformat": 4,
  "nbformat_minor": 0,
  "metadata": {
    "colab": {
      "provenance": [],
      "authorship_tag": "ABX9TyP1LaFvpsGkr/6KQHFAsiEc",
      "include_colab_link": true
    },
    "kernelspec": {
      "name": "python3",
      "display_name": "Python 3"
    },
    "language_info": {
      "name": "python"
    }
  },
  "cells": [
    {
      "cell_type": "markdown",
      "metadata": {
        "id": "view-in-github",
        "colab_type": "text"
      },
      "source": [
        "<a href=\"https://colab.research.google.com/github/wrzoskamil/UMWF/blob/main/use_case2.ipynb\" target=\"_parent\"><img src=\"https://colab.research.google.com/assets/colab-badge.svg\" alt=\"Open In Colab\"/></a>"
      ]
    },
    {
      "cell_type": "code",
      "source": [
        "import pandas as pd\n",
        "movies_df = pd.read_csv('https://s3-us-west-2.amazonaws.com/recommender-tutorial/movies.csv')\n",
        "ratings_df = pd.read_csv('https://s3-us-west-2.amazonaws.com/recommender-tutorial/ratings.csv')"
      ],
      "metadata": {
        "id": "IZjH5HIYrjVL"
      },
      "execution_count": null,
      "outputs": []
    },
    {
      "cell_type": "code",
      "source": [
        "# Zadanie 1\n",
        "# 1. Podaj liczbę filmów Sci-Fi\n",
        "sci_fi_movies_count = movies_df[movies_df['genres'].str.contains('Sci-Fi')].shape[0]\n",
        "print(\"Liczba filmów Sci-Fi:\", sci_fi_movies_count)"
      ],
      "metadata": {
        "colab": {
          "base_uri": "https://localhost:8080/"
        },
        "id": "A5oNwS_8rvO4",
        "outputId": "9d3f7c90-7e4b-42b9-dffd-e378592ea125"
      },
      "execution_count": null,
      "outputs": [
        {
          "output_type": "stream",
          "name": "stdout",
          "text": [
            "Liczba filmów Sci-Fi: 980\n"
          ]
        }
      ]
    },
    {
      "cell_type": "code",
      "source": [
        "# 2. Pokaż rozkład ocen komedii z 2017\n",
        "comedies_2017 = movies_df[(movies_df['genres'].str.contains('Comedy')) & (movies_df['title'].str.contains('\\(2017\\)'))]\n",
        "comedies_2017_ratings = pd.merge(comedies_2017, ratings_df, on='movieId')\n",
        "rating_distribution = comedies_2017_ratings['rating'].value_counts().sort_index()\n",
        "print(\"Rozkład ocen komedii z 2017 roku:\")\n",
        "print(rating_distribution)"
      ],
      "metadata": {
        "colab": {
          "base_uri": "https://localhost:8080/"
        },
        "id": "KtYtgQFbrmnB",
        "outputId": "f48ec92a-708b-4583-8abd-6149a81be7af"
      },
      "execution_count": null,
      "outputs": [
        {
          "output_type": "stream",
          "name": "stdout",
          "text": [
            "Rozkład ocen komedii z 2017 roku:\n",
            "rating\n",
            "0.5     2\n",
            "1.0     2\n",
            "1.5     5\n",
            "2.0     5\n",
            "2.5     6\n",
            "3.0    12\n",
            "3.5    17\n",
            "4.0    24\n",
            "4.5    10\n",
            "5.0     5\n",
            "Name: count, dtype: int64\n"
          ]
        }
      ]
    },
    {
      "cell_type": "code",
      "execution_count": null,
      "metadata": {
        "colab": {
          "base_uri": "https://localhost:8080/"
        },
        "id": "ccATp5eFBcBU",
        "outputId": "188ad4a0-22f1-431d-e839-1e542b7885db"
      },
      "outputs": [
        {
          "output_type": "stream",
          "name": "stdout",
          "text": [
            "Średnia ocen filmów akcji: 3.447984331646809\n",
            "Trzy najczęściej oceniane filmy akcji:\n",
            "Matrix, The (1999): 278 ocen\n",
            "Star Wars: Episode IV - A New Hope (1977): 251 ocen\n",
            "Jurassic Park (1993): 238 ocen\n"
          ]
        }
      ],
      "source": [
        "# 3. Podaj średnią ocen wszystkich filmów akcji oraz 3 filmy akcji najczęściej oceniane\n",
        "\n",
        "action_movies = movies_df[movies_df['genres'].str.contains('Action')]\n",
        "action_movies_ratings = pd.merge(action_movies, ratings_df, on='movieId')\n",
        "# Średnia ocena filmów akcji\n",
        "average_rating_action = action_movies_ratings['rating'].mean()\n",
        "print(\"Średnia ocen filmów akcji:\", average_rating_action)\n",
        "\n",
        "# Trzy najczęściej oceniane filmy akcji\n",
        "top_rated_action_movies_ids = action_movies_ratings['movieId'].value_counts().head(3).index\n",
        "top_rated_action_movies = movies_df[movies_df['movieId'].isin(top_rated_action_movies_ids)]\n",
        "print(\"Trzy najczęściej oceniane filmy akcji:\")\n",
        "for idx in top_rated_action_movies_ids:\n",
        "    title = top_rated_action_movies[top_rated_action_movies['movieId'] == idx]['title'].values[0]\n",
        "    count = action_movies_ratings[action_movies_ratings['movieId'] == idx]['rating'].count()\n",
        "    print(f\"{title}: {count} ocen\")"
      ]
    },
    {
      "cell_type": "code",
      "source": [
        "!pip install scikit-surprise\n",
        "from surprise import SVD, KNNBaseline, Reader, Dataset\n",
        "from surprise.model_selection import cross_validate, GridSearchCV\n",
        "\n",
        "ratings = pd.read_csv('https://s3-us-west-2.amazonaws.com/recommender-tutorial/ratings.csv')\n",
        "movies = pd.read_csv('https://s3-us-west-2.amazonaws.com/recommender-tutorial/movies.csv')"
      ],
      "metadata": {
        "colab": {
          "base_uri": "https://localhost:8080/"
        },
        "id": "sZhhKZsTtTbC",
        "outputId": "726dea00-3075-4e12-cc42-004635c69ddc"
      },
      "execution_count": null,
      "outputs": [
        {
          "output_type": "stream",
          "name": "stdout",
          "text": [
            "Requirement already satisfied: scikit-surprise in /usr/local/lib/python3.10/dist-packages (1.1.3)\n",
            "Requirement already satisfied: joblib>=1.0.0 in /usr/local/lib/python3.10/dist-packages (from scikit-surprise) (1.4.0)\n",
            "Requirement already satisfied: numpy>=1.17.3 in /usr/local/lib/python3.10/dist-packages (from scikit-surprise) (1.25.2)\n",
            "Requirement already satisfied: scipy>=1.3.2 in /usr/local/lib/python3.10/dist-packages (from scikit-surprise) (1.11.4)\n"
          ]
        }
      ]
    },
    {
      "cell_type": "code",
      "source": [
        "# Zadanie 2 - System rokomendacyjny\n",
        "# Przygotowanie danych do formatu, który można przekazać do Surprise\n",
        "reader = Reader(rating_scale=(0.5, 5.0))\n",
        "data = Dataset.load_from_df(ratings[['userId', 'movieId', 'rating']], reader)\n",
        "\n",
        "# Definicja i walidacja modelu SVD\n",
        "algo_svd = SVD()\n",
        "cross_validate(algo_svd, data, measures=['RMSE', 'MAE'], cv=5, verbose=True)\n",
        "\n",
        "# Definicja i walidacja modelu kNN Baseline\n",
        "sim_options = {'name': 'pearson_baseline', 'user_based': True}\n",
        "algo_knn_baseline = KNNBaseline(sim_options=sim_options)\n",
        "cross_validate(algo_knn_baseline, data, measures=['RMSE', 'MAE'], cv=5, verbose=True)\n",
        "\n",
        "# Hiperparametryzacja dla kNN Baseline używając GridSearch\n",
        "param_grid = {'k': [2, 3, 4, 5, 6], 'sim_options': {'name': ['pearson_baseline'], 'user_based': [True, False]}}\n",
        "gs = GridSearchCV(KNNBaseline, param_grid, measures=['rmse', 'mae'], cv=3)\n",
        "gs.fit(data)\n",
        "\n",
        "# Wyniki hiperparametryzacji\n",
        "print(\"Najlepsze parametry dla RMSE:\", gs.best_params['rmse'])\n",
        "print(\"Najlepsze wyniki dla RMSE:\", gs.best_score['rmse'])"
      ],
      "metadata": {
        "colab": {
          "base_uri": "https://localhost:8080/"
        },
        "id": "_fQFcFz2Dr6o",
        "outputId": "a9c5fd40-d71e-43a2-f53c-05f794787cf1"
      },
      "execution_count": null,
      "outputs": [
        {
          "output_type": "stream",
          "name": "stdout",
          "text": [
            "Evaluating RMSE, MAE of algorithm SVD on 5 split(s).\n",
            "\n",
            "                  Fold 1  Fold 2  Fold 3  Fold 4  Fold 5  Mean    Std     \n",
            "RMSE (testset)    0.8771  0.8807  0.8707  0.8661  0.8793  0.8748  0.0055  \n",
            "MAE (testset)     0.6755  0.6763  0.6674  0.6653  0.6765  0.6722  0.0048  \n",
            "Fit time          1.72    1.59    1.76    1.75    2.33    1.83    0.26    \n",
            "Test time         0.13    0.14    0.37    0.12    0.15    0.18    0.09    \n",
            "Estimating biases using als...\n",
            "Computing the pearson_baseline similarity matrix...\n",
            "Done computing similarity matrix.\n",
            "Estimating biases using als...\n",
            "Computing the pearson_baseline similarity matrix...\n",
            "Done computing similarity matrix.\n",
            "Estimating biases using als...\n",
            "Computing the pearson_baseline similarity matrix...\n",
            "Done computing similarity matrix.\n",
            "Estimating biases using als...\n",
            "Computing the pearson_baseline similarity matrix...\n",
            "Done computing similarity matrix.\n",
            "Estimating biases using als...\n",
            "Computing the pearson_baseline similarity matrix...\n",
            "Done computing similarity matrix.\n",
            "Evaluating RMSE, MAE of algorithm KNNBaseline on 5 split(s).\n",
            "\n",
            "                  Fold 1  Fold 2  Fold 3  Fold 4  Fold 5  Mean    Std     \n",
            "RMSE (testset)    0.8781  0.8807  0.8777  0.8772  0.8783  0.8784  0.0012  \n",
            "MAE (testset)     0.6682  0.6698  0.6691  0.6660  0.6703  0.6687  0.0015  \n",
            "Fit time          0.75    0.59    0.60    0.78    0.82    0.70    0.09    \n",
            "Test time         1.52    1.58    1.51    2.16    1.56    1.67    0.25    \n",
            "Estimating biases using als...\n",
            "Computing the pearson_baseline similarity matrix...\n",
            "Done computing similarity matrix.\n",
            "Estimating biases using als...\n",
            "Computing the pearson_baseline similarity matrix...\n",
            "Done computing similarity matrix.\n",
            "Estimating biases using als...\n",
            "Computing the pearson_baseline similarity matrix...\n",
            "Done computing similarity matrix.\n",
            "Estimating biases using als...\n",
            "Computing the pearson_baseline similarity matrix...\n",
            "Done computing similarity matrix.\n",
            "Estimating biases using als...\n",
            "Computing the pearson_baseline similarity matrix...\n",
            "Done computing similarity matrix.\n",
            "Estimating biases using als...\n",
            "Computing the pearson_baseline similarity matrix...\n",
            "Done computing similarity matrix.\n",
            "Estimating biases using als...\n",
            "Computing the pearson_baseline similarity matrix...\n",
            "Done computing similarity matrix.\n",
            "Estimating biases using als...\n",
            "Computing the pearson_baseline similarity matrix...\n",
            "Done computing similarity matrix.\n",
            "Estimating biases using als...\n",
            "Computing the pearson_baseline similarity matrix...\n",
            "Done computing similarity matrix.\n",
            "Estimating biases using als...\n",
            "Computing the pearson_baseline similarity matrix...\n",
            "Done computing similarity matrix.\n",
            "Estimating biases using als...\n",
            "Computing the pearson_baseline similarity matrix...\n",
            "Done computing similarity matrix.\n",
            "Estimating biases using als...\n",
            "Computing the pearson_baseline similarity matrix...\n",
            "Done computing similarity matrix.\n",
            "Estimating biases using als...\n",
            "Computing the pearson_baseline similarity matrix...\n",
            "Done computing similarity matrix.\n",
            "Estimating biases using als...\n",
            "Computing the pearson_baseline similarity matrix...\n",
            "Done computing similarity matrix.\n",
            "Estimating biases using als...\n",
            "Computing the pearson_baseline similarity matrix...\n",
            "Done computing similarity matrix.\n",
            "Estimating biases using als...\n",
            "Computing the pearson_baseline similarity matrix...\n",
            "Done computing similarity matrix.\n",
            "Estimating biases using als...\n",
            "Computing the pearson_baseline similarity matrix...\n",
            "Done computing similarity matrix.\n",
            "Estimating biases using als...\n",
            "Computing the pearson_baseline similarity matrix...\n",
            "Done computing similarity matrix.\n",
            "Estimating biases using als...\n",
            "Computing the pearson_baseline similarity matrix...\n",
            "Done computing similarity matrix.\n",
            "Estimating biases using als...\n",
            "Computing the pearson_baseline similarity matrix...\n",
            "Done computing similarity matrix.\n",
            "Estimating biases using als...\n",
            "Computing the pearson_baseline similarity matrix...\n",
            "Done computing similarity matrix.\n",
            "Estimating biases using als...\n",
            "Computing the pearson_baseline similarity matrix...\n",
            "Done computing similarity matrix.\n",
            "Estimating biases using als...\n",
            "Computing the pearson_baseline similarity matrix...\n",
            "Done computing similarity matrix.\n",
            "Estimating biases using als...\n",
            "Computing the pearson_baseline similarity matrix...\n",
            "Done computing similarity matrix.\n",
            "Estimating biases using als...\n",
            "Computing the pearson_baseline similarity matrix...\n",
            "Done computing similarity matrix.\n",
            "Estimating biases using als...\n",
            "Computing the pearson_baseline similarity matrix...\n",
            "Done computing similarity matrix.\n",
            "Estimating biases using als...\n",
            "Computing the pearson_baseline similarity matrix...\n",
            "Done computing similarity matrix.\n",
            "Estimating biases using als...\n",
            "Computing the pearson_baseline similarity matrix...\n",
            "Done computing similarity matrix.\n",
            "Estimating biases using als...\n",
            "Computing the pearson_baseline similarity matrix...\n",
            "Done computing similarity matrix.\n",
            "Estimating biases using als...\n",
            "Computing the pearson_baseline similarity matrix...\n",
            "Done computing similarity matrix.\n",
            "Najlepsze parametry dla RMSE: {'k': 6, 'sim_options': {'name': 'pearson_baseline', 'user_based': False}}\n",
            "Najlepsze wyniki dla RMSE: 0.889895337341363\n"
          ]
        }
      ]
    },
    {
      "cell_type": "code",
      "source": [
        "from sklearn.metrics.pairwise import cosine_similarity\n",
        "from scipy.sparse import csr_matrix"
      ],
      "metadata": {
        "id": "PcYIdH-QuFvg"
      },
      "execution_count": null,
      "outputs": []
    },
    {
      "cell_type": "code",
      "source": [
        "all_movie_ids = ratings['movieId'].unique()\n",
        "\n",
        "# Utworzenie listy par\n",
        "penguins_user_movie_pairs = [(user_id, penguins_id) for user_id in ratings['userId'].unique()]\n",
        "hobbit_user_movie_pairs = [(user_id, hobbit_id) for user_id in ratings['userId'].unique()]\n",
        "\n",
        "# Uzyskanie przewidywanych ocen dla wszystkich użytkowników za pomocą modelu SVD\n",
        "penguins_svd_ratings = [(user_id, algo_svd.predict(user_id, penguins_id).est) for user_id, penguins_id in penguins_user_movie_pairs]\n",
        "hobbit_svd_ratings = [(user_id, algo_svd.predict(user_id, hobbit_id).est) for user_id, hobbit_id in hobbit_user_movie_pairs]\n",
        "\n",
        "# Sortowanie przewidywanych ocen malejąco i wybranie 10 najlepszych rekomendacji\n",
        "penguins_svd_recommendations = sorted(penguins_svd_ratings, key=lambda x: x[1], reverse=True)[:10]\n",
        "hobbit_svd_recommendations = sorted(hobbit_svd_ratings, key=lambda x: x[1], reverse=True)[:10]\n",
        "\n",
        "print(\"Rekomendacje po obejrzeniu filmu 'Penguins of Madagascar' za pomocą modelu SVD:\")\n",
        "for user_id, rating in penguins_svd_recommendations:\n",
        "    print(f\"Użytkownik {user_id}: przewidywana ocena = {rating}\")\n",
        "\n",
        "print(\"\\nRekomendacje po obejrzeniu filmu 'Hobbit: The Desolation of Smaug, The' za pomocą modelu SVD:\")\n",
        "for user_id, rating in hobbit_svd_recommendations:\n",
        "    print(f\"Użytkownik {user_id}: przewidywana ocena = {rating}\")\n"
      ],
      "metadata": {
        "colab": {
          "base_uri": "https://localhost:8080/"
        },
        "id": "Db7MBFdNRCCG",
        "outputId": "815b38ff-dfd9-4c03-9084-6152ed84427d"
      },
      "execution_count": null,
      "outputs": [
        {
          "output_type": "stream",
          "name": "stdout",
          "text": [
            "Rekomendacje po obejrzeniu filmu 'Penguins of Madagascar' za pomocą modelu SVD:\n",
            "Użytkownik 53: przewidywana ocena = 4.545122439806879\n",
            "Użytkownik 523: przewidywana ocena = 4.4838094551045495\n",
            "Użytkownik 171: przewidywana ocena = 4.429329625878524\n",
            "Użytkownik 12: przewidywana ocena = 4.387622479903762\n",
            "Użytkownik 43: przewidywana ocena = 4.38743057565517\n",
            "Użytkownik 371: przewidywana ocena = 4.385899855872154\n",
            "Użytkownik 1: przewidywana ocena = 4.372404141351187\n",
            "Użytkownik 452: przewidywana ocena = 4.357590453145033\n",
            "Użytkownik 93: przewidywana ocena = 4.34169531767337\n",
            "Użytkownik 122: przewidywana ocena = 4.324491098291593\n",
            "\n",
            "Rekomendacje po obejrzeniu filmu 'Hobbit: The Desolation of Smaug, The' za pomocą modelu SVD:\n",
            "Użytkownik 53: przewidywana ocena = 4.548496990635414\n",
            "Użytkownik 452: przewidywana ocena = 4.451758539742081\n",
            "Użytkownik 586: przewidywana ocena = 4.4380217322358995\n",
            "Użytkownik 12: przewidywana ocena = 4.433774069539916\n",
            "Użytkownik 122: przewidywana ocena = 4.407734591091876\n",
            "Użytkownik 43: przewidywana ocena = 4.371343971337427\n",
            "Użytkownik 337: przewidywana ocena = 4.363797291575524\n",
            "Użytkownik 276: przewidywana ocena = 4.355636152121077\n",
            "Użytkownik 171: przewidywana ocena = 4.3308294853654985\n",
            "Użytkownik 441: przewidywana ocena = 4.3184859704193\n"
          ]
        }
      ]
    },
    {
      "cell_type": "code",
      "source": [
        "# Wyświetlenie identyfikatorów filmów zawierających 'Penguins'\n",
        "print(\"Identyfikatory filmów zawierających 'Penguins':\")\n",
        "print(movies[movies['title'].str.contains(\"Penguins\", case=False, na=False)])\n",
        "\n",
        "# Wyświetlenie identyfikatorów filmów zawierających 'Hobbit'\n",
        "print(\"\\nIdentyfikatory filmów zawierających 'Hobbit':\")\n",
        "print(movies[movies['title'].str.contains(\"Hobbit\", case=False, na=False)])\n"
      ],
      "metadata": {
        "colab": {
          "base_uri": "https://localhost:8080/"
        },
        "id": "YTvMx5t322S2",
        "outputId": "2fc92f54-bddd-43e9-b571-4a8bacc85aca"
      },
      "execution_count": null,
      "outputs": [
        {
          "output_type": "stream",
          "name": "stdout",
          "text": [
            "Identyfikatory filmów zawierających 'Penguins':\n",
            "      movieId                                              title  \\\n",
            "5932    34072  March of the Penguins (Marche de l'empereur, L...   \n",
            "7629    87483                       Mr. Popper's Penguins (2011)   \n",
            "8586   117368  The Madagascar Penguins in a Christmas Caper (...   \n",
            "8599   117851                      Penguins of Madagascar (2014)   \n",
            "\n",
            "                                   genres  \n",
            "5932                          Documentary  \n",
            "7629                               Comedy  \n",
            "8586                     Animation|Comedy  \n",
            "8599  Adventure|Animation|Children|Comedy  \n",
            "\n",
            "Identyfikatory filmów zawierających 'Hobbit':\n",
            "      movieId                                             title  \\\n",
            "8053    98809         Hobbit: An Unexpected Journey, The (2012)   \n",
            "8296   106489       Hobbit: The Desolation of Smaug, The (2013)   \n",
            "8617   118696  The Hobbit: The Battle of the Five Armies (2014)   \n",
            "\n",
            "                      genres  \n",
            "8053  Adventure|Fantasy|IMAX  \n",
            "8296  Adventure|Fantasy|IMAX  \n",
            "8617       Adventure|Fantasy  \n"
          ]
        }
      ]
    },
    {
      "cell_type": "code",
      "source": [
        "# Mapowanie identyfikatorów filmów na ich tytuły\n",
        "movie_titles = dict(zip(movies['movieId'], movies['title']))\n",
        "\n",
        "# Identyfikatory filmów\n",
        "penguins_ids = [34072, 87483, 117368, 117851]\n",
        "hobbit_ids = [98809, 106489, 118696]\n",
        "\n",
        "# Rekomendacje dla Penguins of Madagascar\n",
        "print(\"Rekomendowane filmy po obejrzeniu 'Penguins of Madagascar':\")\n",
        "for movie_id in penguins_ids:\n",
        "    if movie_id in movie_titles:\n",
        "        print(movie_titles[movie_id])\n",
        "    else:\n",
        "        print(f\"Brak informacji o filmie o identyfikatorze {movie_id}.\")\n",
        "\n",
        "# Rekomendacje dla Hobbit\n",
        "print(\"\\nRekomendowane filmy po obejrzeniu 'Hobbit: The Desolation of Smaug, The':\")\n",
        "for movie_id in hobbit_ids:\n",
        "    if movie_id in movie_titles:\n",
        "        print(movie_titles[movie_id])\n",
        "    else:\n",
        "        print(f\"Brak informacji o filmie o identyfikatorze {movie_id}.\")\n"
      ],
      "metadata": {
        "colab": {
          "base_uri": "https://localhost:8080/"
        },
        "id": "x9AFdyLY7LQl",
        "outputId": "7c543848-b081-4511-f39c-b79914c4be6a"
      },
      "execution_count": null,
      "outputs": [
        {
          "output_type": "stream",
          "name": "stdout",
          "text": [
            "Rekomendowane filmy po obejrzeniu 'Penguins of Madagascar':\n",
            "March of the Penguins (Marche de l'empereur, La) (2005)\n",
            "Mr. Popper's Penguins (2011)\n",
            "The Madagascar Penguins in a Christmas Caper (2005)\n",
            "Penguins of Madagascar (2014)\n",
            "\n",
            "Rekomendowane filmy po obejrzeniu 'Hobbit: The Desolation of Smaug, The':\n",
            "Hobbit: An Unexpected Journey, The (2012)\n",
            "Hobbit: The Desolation of Smaug, The (2013)\n",
            "The Hobbit: The Battle of the Five Armies (2014)\n"
          ]
        }
      ]
    }
  ]
}